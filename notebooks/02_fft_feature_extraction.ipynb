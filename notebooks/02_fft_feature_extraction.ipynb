{
 "cells": [
  {
   "cell_type": "markdown",
   "id": "e118bd2a",
   "metadata": {},
   "source": [
    "# 02 FFT Feature Extraction\n",
    "\n",
    "\n",
    "**Objective:**\n",
    "Extract frequency-domain features from resampled 100ms OHLCV bars using sliding windows and FFT.\n"
   ]
  },
  {
   "cell_type": "code",
   "execution_count": 1,
   "id": "4d6fd257",
   "metadata": {},
   "outputs": [],
   "source": [
    "import os\n",
    "import pandas as pd\n",
    "import numpy as np\n",
    "import matplotlib.pyplot as plt\n",
    "from data_ingestion.fetch_binance_data import fetch_historical_agg_trades\n",
    "from preprocessing.resample_ticks import resample_tick_data\n",
    "from feature_extraction.windowing import sliding_window\n",
    "from feature_extraction.fft_features import compute_fft_features\n",
    "from utils.config import DATA_DIR, DEFAULT_FREQ, DEFAULT_WINDOW_SIZE, DEFAULT_N_FFT_FEATURES, DEFAULT_FETCH_WINDOW_MINUTES\n",
    "from utils.plotting import plot_fft_spectrum"
   ]
  },
  {
   "cell_type": "code",
   "execution_count": 2,
   "id": "57839741",
   "metadata": {},
   "outputs": [],
   "source": [
    "# Ensure data directory exists\n",
    "os.makedirs(DATA_DIR, exist_ok=True)"
   ]
  },
  {
   "cell_type": "markdown",
   "id": "460a6e13",
   "metadata": {},
   "source": [
    "## 1. Fetch Historical Aggregated Trade Data\n",
    "\n",
    "Fetch 10 minutes of aggregated trades for XRP/USDT using Binance's public `/aggTrades` endpoint."
   ]
  },
  {
   "cell_type": "code",
   "execution_count": 3,
   "id": "348bcef7",
   "metadata": {},
   "outputs": [
    {
     "data": {
      "text/html": [
       "<div>\n",
       "<style scoped>\n",
       "    .dataframe tbody tr th:only-of-type {\n",
       "        vertical-align: middle;\n",
       "    }\n",
       "\n",
       "    .dataframe tbody tr th {\n",
       "        vertical-align: top;\n",
       "    }\n",
       "\n",
       "    .dataframe thead th {\n",
       "        text-align: right;\n",
       "    }\n",
       "</style>\n",
       "<table border=\"1\" class=\"dataframe\">\n",
       "  <thead>\n",
       "    <tr style=\"text-align: right;\">\n",
       "      <th></th>\n",
       "      <th>price</th>\n",
       "      <th>volume</th>\n",
       "    </tr>\n",
       "    <tr>\n",
       "      <th>timestamp</th>\n",
       "      <th></th>\n",
       "      <th></th>\n",
       "    </tr>\n",
       "  </thead>\n",
       "  <tbody>\n",
       "    <tr>\n",
       "      <th>2025-05-14 23:58:15.597</th>\n",
       "      <td>2.5518</td>\n",
       "      <td>5.0</td>\n",
       "    </tr>\n",
       "    <tr>\n",
       "      <th>2025-05-14 23:58:15.664</th>\n",
       "      <td>2.5519</td>\n",
       "      <td>73.0</td>\n",
       "    </tr>\n",
       "    <tr>\n",
       "      <th>2025-05-14 23:58:19.381</th>\n",
       "      <td>2.5519</td>\n",
       "      <td>21.5</td>\n",
       "    </tr>\n",
       "    <tr>\n",
       "      <th>2025-05-14 23:58:21.150</th>\n",
       "      <td>2.5518</td>\n",
       "      <td>4.5</td>\n",
       "    </tr>\n",
       "    <tr>\n",
       "      <th>2025-05-14 23:58:21.617</th>\n",
       "      <td>2.5518</td>\n",
       "      <td>164.0</td>\n",
       "    </tr>\n",
       "  </tbody>\n",
       "</table>\n",
       "</div>"
      ],
      "text/plain": [
       "                          price  volume\n",
       "timestamp                              \n",
       "2025-05-14 23:58:15.597  2.5518     5.0\n",
       "2025-05-14 23:58:15.664  2.5519    73.0\n",
       "2025-05-14 23:58:19.381  2.5519    21.5\n",
       "2025-05-14 23:58:21.150  2.5518     4.5\n",
       "2025-05-14 23:58:21.617  2.5518   164.0"
      ]
     },
     "execution_count": 3,
     "metadata": {},
     "output_type": "execute_result"
    }
   ],
   "source": [
    "end_ts = int(pd.Timestamp.utcnow().timestamp() * 1000)\n",
    "start_ts = end_ts - DEFAULT_FETCH_WINDOW_MINUTES * 60 * 1000\n",
    "\n",
    "# Fetch aggregated trades\n",
    "df_ticks = fetch_historical_agg_trades(\n",
    "    symbol=\"XRPUSDT\",\n",
    "    start_time=start_ts,\n",
    "    end_time=end_ts,\n",
    "    limit=1000\n",
    ")\n",
    "\n",
    "# Preview the tick data\n",
    "df_ticks.head()"
   ]
  },
  {
   "cell_type": "markdown",
   "id": "aef91b62",
   "metadata": {},
   "source": [
    "## 2. Resample to 100ms OHLCV Bars\n",
    "\n",
    "Convert irregular tick data into uniform 100ms bars (OHLCV)."
   ]
  },
  {
   "cell_type": "code",
   "execution_count": 4,
   "id": "6f58ea3b",
   "metadata": {},
   "outputs": [
    {
     "data": {
      "text/html": [
       "<div>\n",
       "<style scoped>\n",
       "    .dataframe tbody tr th:only-of-type {\n",
       "        vertical-align: middle;\n",
       "    }\n",
       "\n",
       "    .dataframe tbody tr th {\n",
       "        vertical-align: top;\n",
       "    }\n",
       "\n",
       "    .dataframe thead th {\n",
       "        text-align: right;\n",
       "    }\n",
       "</style>\n",
       "<table border=\"1\" class=\"dataframe\">\n",
       "  <thead>\n",
       "    <tr style=\"text-align: right;\">\n",
       "      <th></th>\n",
       "      <th>open</th>\n",
       "      <th>high</th>\n",
       "      <th>low</th>\n",
       "      <th>close</th>\n",
       "      <th>volume</th>\n",
       "    </tr>\n",
       "    <tr>\n",
       "      <th>timestamp</th>\n",
       "      <th></th>\n",
       "      <th></th>\n",
       "      <th></th>\n",
       "      <th></th>\n",
       "      <th></th>\n",
       "    </tr>\n",
       "  </thead>\n",
       "  <tbody>\n",
       "    <tr>\n",
       "      <th>2025-05-14 23:58:15.500</th>\n",
       "      <td>2.5518</td>\n",
       "      <td>2.5518</td>\n",
       "      <td>2.5518</td>\n",
       "      <td>2.5518</td>\n",
       "      <td>5.0</td>\n",
       "    </tr>\n",
       "    <tr>\n",
       "      <th>2025-05-14 23:58:15.600</th>\n",
       "      <td>2.5519</td>\n",
       "      <td>2.5519</td>\n",
       "      <td>2.5519</td>\n",
       "      <td>2.5519</td>\n",
       "      <td>73.0</td>\n",
       "    </tr>\n",
       "    <tr>\n",
       "      <th>2025-05-14 23:58:15.700</th>\n",
       "      <td>2.5519</td>\n",
       "      <td>2.5519</td>\n",
       "      <td>2.5519</td>\n",
       "      <td>2.5519</td>\n",
       "      <td>0.0</td>\n",
       "    </tr>\n",
       "    <tr>\n",
       "      <th>2025-05-14 23:58:15.800</th>\n",
       "      <td>2.5519</td>\n",
       "      <td>2.5519</td>\n",
       "      <td>2.5519</td>\n",
       "      <td>2.5519</td>\n",
       "      <td>0.0</td>\n",
       "    </tr>\n",
       "    <tr>\n",
       "      <th>2025-05-14 23:58:15.900</th>\n",
       "      <td>2.5519</td>\n",
       "      <td>2.5519</td>\n",
       "      <td>2.5519</td>\n",
       "      <td>2.5519</td>\n",
       "      <td>0.0</td>\n",
       "    </tr>\n",
       "  </tbody>\n",
       "</table>\n",
       "</div>"
      ],
      "text/plain": [
       "                           open    high     low   close  volume\n",
       "timestamp                                                      \n",
       "2025-05-14 23:58:15.500  2.5518  2.5518  2.5518  2.5518     5.0\n",
       "2025-05-14 23:58:15.600  2.5519  2.5519  2.5519  2.5519    73.0\n",
       "2025-05-14 23:58:15.700  2.5519  2.5519  2.5519  2.5519     0.0\n",
       "2025-05-14 23:58:15.800  2.5519  2.5519  2.5519  2.5519     0.0\n",
       "2025-05-14 23:58:15.900  2.5519  2.5519  2.5519  2.5519     0.0"
      ]
     },
     "execution_count": 4,
     "metadata": {},
     "output_type": "execute_result"
    }
   ],
   "source": [
    "bars = resample_tick_data(df_ticks, freq=DEFAULT_FREQ)\n",
    "bars.head()"
   ]
  },
  {
   "cell_type": "markdown",
   "id": "ff639336",
   "metadata": {},
   "source": [
    "## 3. Generate Sliding Windows\n",
    "\n",
    "Create non-overlapping windows of size `DEFAULT_WINDOW_SIZE` from the resampled bars."
   ]
  },
  {
   "cell_type": "code",
   "execution_count": 5,
   "id": "5429ecaf",
   "metadata": {},
   "outputs": [
    {
     "name": "stdout",
     "output_type": "stream",
     "text": [
      "Total windows obtained: 140\n"
     ]
    }
   ],
   "source": [
    "windows = list(sliding_window(\n",
    "    df=bars,\n",
    "    window_size=DEFAULT_WINDOW_SIZE,\n",
    "    step_size=DEFAULT_WINDOW_SIZE\n",
    "))\n",
    "print(f\"Total windows obtained: {len(windows)}\")\n",
    "\n",
    "# Validate window count\n",
    "if len(windows) == 0:\n",
    "    raise ValueError(\n",
    "        f\"Resampled data length ({len(bars)}) is smaller than window size ({DEFAULT_WINDOW_SIZE}). \"\n",
    "        \"Consider increasing the fetch window or decreasing `DEFAULT_WINDOW_SIZE` in utils.config.\"\n",
    "    )"
   ]
  },
  {
   "cell_type": "markdown",
   "id": "1f0d7594",
   "metadata": {},
   "source": [
    "## 4. Compute FFT Features\n",
    "\n",
    "For each window, compute the top `DEFAULT_N_FFT_FEATURES` frequency components and their magnitudes."
   ]
  },
  {
   "cell_type": "code",
   "execution_count": 6,
   "id": "6c792deb",
   "metadata": {},
   "outputs": [
    {
     "name": "stdout",
     "output_type": "stream",
     "text": [
      "Feature matrix shape: (140, 20)\n"
     ]
    }
   ],
   "source": [
    "# Calculate sampling rate from the resample frequency\n",
    "dt = pd.to_timedelta(DEFAULT_FREQ).total_seconds()\n",
    "sample_rate = 1.0 / dt\n",
    "\n",
    "# Extract FFT features for each window\n",
    "features = []\n",
    "for idx, window_df in windows:\n",
    "    feats = compute_fft_features(\n",
    "        series=window_df['close'],\n",
    "        n_features=DEFAULT_N_FFT_FEATURES,\n",
    "        sample_rate=sample_rate\n",
    "    )\n",
    "    features.append(feats)\n",
    "\n",
    "# Stack feature vectors into a matrix\n",
    "X_fft = np.vstack(features)\n",
    "print(\"Feature matrix shape:\", X_fft.shape)"
   ]
  },
  {
   "cell_type": "markdown",
   "id": "5487957d",
   "metadata": {},
   "source": [
    "## 5. Visualize FFT Spectrum of the First Window"
   ]
  },
  {
   "cell_type": "code",
   "execution_count": 7,
   "id": "31968967",
   "metadata": {},
   "outputs": [
    {
     "data": {
      "image/png": "[encoded data removed]",
      "text/plain": [
       "<Figure size 1200x400 with 1 Axes>"
      ]
     },
     "metadata": {},
     "output_type": "display_data"
    }
   ],
   "source": [
    "plot_fft_spectrum(\n",
    "    series=windows[0][1]['close'],\n",
    "    sample_rate=sample_rate,\n",
    "    title='FFT Spectrum of First 100ms Window'\n",
    ")"
   ]
  },
  {
   "cell_type": "markdown",
   "id": "abf38d5f",
   "metadata": {},
   "source": [
    "## 6. Save FFT Feature Matrix\n",
    "\n",
    "Save the feature matrix `X_fft` to disk for downstream modeling."
   ]
  },
  {
   "cell_type": "code",
   "execution_count": 8,
   "id": "6b8accca",
   "metadata": {},
   "outputs": [
    {
     "name": "stdout",
     "output_type": "stream",
     "text": [
      "Saved FFT feature matrix to /Users/yechanjeong/Desktop/computational_python/FFT_Project/Crypto_FFT_ML_Analysis/data/X_fft.npy\n"
     ]
    }
   ],
   "source": [
    "output_path = os.path.join(DATA_DIR, 'X_fft.npy')\n",
    "np.save(output_path, X_fft)\n",
    "print(f\"Saved FFT feature matrix to {output_path}\")"
   ]
  },
  {
   "cell_type": "markdown",
   "id": "5a2a1e32",
   "metadata": {},
   "source": [
    "**Next:** Proceed to `03_ml_modeling.ipynb` to load `X_fft.npy`, generate labels, and train classification and regression models."
   ]
  }
 ],
 "metadata": {
  "kernelspec": {
   "display_name": "Python 3 (ipykernel)",
   "language": "python",
   "name": "python3"
  },
  "language_info": {
   "codemirror_mode": {
    "name": "ipython",
    "version": 3
   },
   "file_extension": ".py",
   "mimetype": "text/x-python",
   "name": "python",
   "nbconvert_exporter": "python",
   "pygments_lexer": "ipython3",
   "version": "3.9.6"
  }
 },
 "nbformat": 4,
 "nbformat_minor": 5
}
