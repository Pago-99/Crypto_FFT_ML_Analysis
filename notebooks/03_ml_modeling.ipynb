{
 "cells": [
  {
   "cell_type": "markdown",
   "id": "cf1a4e4f",
   "metadata": {},
   "source": [
    "# 03 Machine Learning Modeling\n",
    "\n",
    "**Objective:**\n",
    "Load the FFT feature matrix and generate corresponding labels, then train and evaluate classification and regression models on these features."
   ]
  },
  {
   "cell_type": "code",
   "execution_count": 1,
   "id": "8d0cf7eb",
   "metadata": {},
   "outputs": [],
   "source": [
    "import os\n",
    "import numpy as np\n",
    "import pandas as pd\n",
    "from sklearn.model_selection import train_test_split\n",
    "from modeling.classifier import PriceDirectionClassifier\n",
    "from modeling.regressor import PriceChangeRegressor\n",
    "from utils.plotting import plot_confusion, plot_regression\n",
    "from utils.config import DATA_DIR, DEFAULT_FREQ, DEFAULT_WINDOW_SIZE\n",
    "from data_ingestion.fetch_binance_data import fetch_historical_agg_trades\n",
    "from preprocessing.resample_ticks import resample_tick_data\n",
    "from feature_extraction.windowing import sliding_window"
   ]
  },
  {
   "cell_type": "markdown",
   "id": "47eecb3a",
   "metadata": {},
   "source": [
    "## 1. Load FFT Features\n",
    "Load the saved FFT feature matrix (`X_fft.npy`). Ensure it exists."
   ]
  },
  {
   "cell_type": "code",
   "execution_count": 2,
   "id": "632d27a1",
   "metadata": {},
   "outputs": [
    {
     "name": "stdout",
     "output_type": "stream",
     "text": [
      "Loaded FFT feature matrix with 140 samples and 20 features each.\n"
     ]
    }
   ],
   "source": [
    "features_path = os.path.join(DATA_DIR, 'X_fft.npy')\n",
    "if not os.path.isfile(features_path):\n",
    "    raise FileNotFoundError(\n",
    "        f\"Feature matrix not found at {features_path}. Run the FFT feature extraction notebook first.\"\n",
    "    )\n",
    "X_fft = np.load(features_path)\n",
    "print(f\"Loaded FFT feature matrix with {X_fft.shape[0]} samples and {X_fft.shape[1]} features each.\")"
   ]
  },
  {
   "cell_type": "markdown",
   "id": "3d633e7c",
   "metadata": {},
   "source": [
    "## 2. Regenerate Resampled Bars and Sliding Windows for Label Creation\n",
    "Generate the same windows used in feature extraction to compute labels: next-window mean price change and direction.\n"
   ]
  },
  {
   "cell_type": "code",
   "execution_count": 3,
   "id": "0d1335e5",
   "metadata": {},
   "outputs": [
    {
     "name": "stdout",
     "output_type": "stream",
     "text": [
      "Generated 23 windows from resampled bars.\n"
     ]
    }
   ],
   "source": [
    "# Define the same time window used previously (last 10 minutes)\n",
    "end_ts = int(pd.Timestamp.utcnow().timestamp() * 1000)\n",
    "start_ts = end_ts - 10 * 60 * 1000  # 10 minutes in ms\n",
    "\n",
    "# Fetch historical aggregated trades\n",
    "df_ticks = fetch_historical_agg_trades(\n",
    "    symbol='XRPUSDT',\n",
    "    start_time=start_ts,\n",
    "    end_time=end_ts,\n",
    "    limit=1000\n",
    ")\n",
    "# Resample (forward-fill and zero-fill ensure continuous bars)\n",
    "bars = resample_tick_data(df_ticks, freq=DEFAULT_FREQ)\n",
    "\n",
    "# Generate non-overlapping windows of size DEFAULT_WINDOW_SIZE\n",
    "windows = list(sliding_window(df=bars, window_size=DEFAULT_WINDOW_SIZE, step_size=DEFAULT_WINDOW_SIZE))\n",
    "num_windows = len(windows)\n",
    "print(f\"Generated {num_windows} windows from resampled bars.\")\n",
    "if num_windows < 2:\n",
    "    raise ValueError(\n",
    "        f\"Insufficient windows ({num_windows}) for label generation. \"\n",
    "        \"Consider increasing data fetch window or decreasing DEFAULT_WINDOW_SIZE.\"\n",
    "    )"
   ]
  },
  {
   "cell_type": "markdown",
   "id": "4c668844",
   "metadata": {},
   "source": [
    "## 3. Compute Labels\n",
    "- **Regression target (`y_reg`)**: next-window mean price change.\n",
    "- **Classification target (`y_class`)**: binary indicator of positive change."
   ]
  },
  {
   "cell_type": "code",
   "execution_count": 11,
   "id": "d915cc18",
   "metadata": {},
   "outputs": [
    {
     "name": "stdout",
     "output_type": "stream",
     "text": [
      "Aligned for modeling: X size=22, y_reg size=22, y_class size=22\n",
      "Features for modeling: 22 samples\n",
      "Regression labels: 22 samples\n",
      "Classification labels: 22 samples\n"
     ]
    }
   ],
   "source": [
    "# Compute mean close price of each window\n",
    "mean_closes = [window_df['close'].mean() for _, window_df in windows]\n",
    "# Compute price changes between consecutive windows\n",
    "deltas = np.diff(mean_closes)\n",
    "\n",
    "# Align features and labels by trimming to the number of deltas\n",
    "n_samples = len(windows) - 1\n",
    "X = X_fft[:n_samples]\n",
    "y_reg = deltas\n",
    "y_class = (deltas > 0).astype(int)\n",
    "\n",
    "print(f\"Aligned for modeling: X size={X.shape[0]}, y_reg size={y_reg.shape[0]}, y_class size={y_class.shape[0]}\")\n",
    "print(f\"Features for modeling: {X.shape[0]} samples\")\n",
    "print(f\"Regression labels: {y_reg.shape[0]} samples\")\n",
    "print(f\"Classification labels: {y_class.shape[0]} samples\")"
   ]
  },
  {
   "cell_type": "markdown",
   "id": "627dc2e1",
   "metadata": {},
   "source": [
    "## 4. Train/Test Split\n",
    "Split the dataset into training and testing sets."
   ]
  },
  {
   "cell_type": "code",
   "execution_count": 6,
   "id": "58d4c194",
   "metadata": {},
   "outputs": [
    {
     "name": "stdout",
     "output_type": "stream",
     "text": [
      "Training samples: 15, Testing samples: 7\n"
     ]
    }
   ],
   "source": [
    "X_train, X_test, y_train_c, y_test_c, y_train_r, y_test_r = train_test_split(\n",
    "    X,\n",
    "    y_class,\n",
    "    y_reg,\n",
    "    test_size=0.3,\n",
    "    random_state=42\n",
    ")\n",
    "print(\n",
    "    f\"Training samples: {X_train.shape[0]}, Testing samples: {X_test.shape[0]}\"\n",
    ")\n",
    "if X_train.shape[0] == 0 or X_test.shape[0] == 0:\n",
    "    raise ValueError(\"Train or test split resulted in zero samples. Adjust test_size or data volume.\")\n"
   ]
  },
  {
   "cell_type": "markdown",
   "id": "272ced37",
   "metadata": {},
   "source": [
    "## 5. Classification: Predicting Price Direction\n",
    "Train a logistic regression classifier on the FFT features and evaluate."
   ]
  },
  {
   "cell_type": "code",
   "execution_count": 7,
   "id": "8fe71b15",
   "metadata": {},
   "outputs": [
    {
     "name": "stdout",
     "output_type": "stream",
     "text": [
      "Classification accuracy: 0.286\n"
     ]
    }
   ],
   "source": [
    "clf = PriceDirectionClassifier()\n",
    "clf.fit(X_train, y_train_c)\n",
    "y_pred_c = clf.predict(X_test)\n",
    "accuracy = clf.score(X_test, y_test_c)\n",
    "print(f\"Classification accuracy: {accuracy:.3f}\")"
   ]
  },
  {
   "cell_type": "code",
   "execution_count": 8,
   "id": "3171a8a8",
   "metadata": {},
   "outputs": [
    {
     "data": {
      "image/png": "[encoded data removed]",
      "text/plain": [
       "<Figure size 640x480 with 2 Axes>"
      ]
     },
     "metadata": {},
     "output_type": "display_data"
    }
   ],
   "source": [
    "plot_confusion(y_test_c, y_pred_c, labels=[0, 1])"
   ]
  },
  {
   "cell_type": "markdown",
   "id": "f39aec01",
   "metadata": {},
   "source": [
    "## 6. Regression: Forecasting Price Change\n",
    "Train a linear regression model on the FFT features and evaluate."
   ]
  },
  {
   "cell_type": "code",
   "execution_count": 9,
   "id": "0311c0f5",
   "metadata": {},
   "outputs": [
    {
     "name": "stdout",
     "output_type": "stream",
     "text": [
      "Regression R² score: -8.298\n"
     ]
    }
   ],
   "source": [
    "reg = PriceChangeRegressor()\n",
    "reg.fit(X_train, y_train_r)\n",
    "y_pred_r = reg.predict(X_test)\n",
    "r2 = reg.score(X_test, y_test_r)\n",
    "print(f\"Regression R² score: {r2:.3f}\")"
   ]
  },
  {
   "cell_type": "code",
   "execution_count": 10,
   "id": "435be205",
   "metadata": {},
   "outputs": [
    {
     "data": {
      "image/png": "[encoded data removed]",
      "text/plain": [
       "<Figure size 600x600 with 1 Axes>"
      ]
     },
     "metadata": {},
     "output_type": "display_data"
    }
   ],
   "source": [
    "plot_regression(y_test_r, y_pred_r)"
   ]
  },
  {
   "cell_type": "markdown",
   "id": "35c70e0a",
   "metadata": {},
   "source": [
    "**Next:** Proceed to `04_clustering_and_pca.ipynb` for unsupervised exploration of these FFT features."
   ]
  }
 ],
 "metadata": {
  "kernelspec": {
   "display_name": "Python 3 (ipykernel)",
   "language": "python",
   "name": "python3"
  },
  "language_info": {
   "codemirror_mode": {
    "name": "ipython",
    "version": 3
   },
   "file_extension": ".py",
   "mimetype": "text/x-python",
   "name": "python",
   "nbconvert_exporter": "python",
   "pygments_lexer": "ipython3",
   "version": "3.9.6"
  }
 },
 "nbformat": 4,
 "nbformat_minor": 5
}
